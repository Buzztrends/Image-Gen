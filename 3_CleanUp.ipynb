{
 "cells": [
  {
   "cell_type": "markdown",
   "id": "6213da9a",
   "metadata": {},
   "source": [
    "# 3. Cleanup\n",
    "This Notebook is used to delete the endpoints and run a cleanup to stop the endpoints which would avoid any additional charges."
   ]
  },
  {
   "cell_type": "code",
   "execution_count": null,
   "id": "a8e05087",
   "metadata": {
    "tags": []
   },
   "outputs": [],
   "source": [
    "# Import libraries\n",
    "import boto3\n",
    "\n",
    "# Get the right credentials, role and client for SageMaker\n",
    "sm_client = boto3.client(service_name=\"sagemaker\")"
   ]
  },
  {
   "cell_type": "markdown",
   "id": "cc5a144d",
   "metadata": {},
   "source": [
    "## 3.1 Delete endpoint, endpoint config and model for Model 1: SAM"
   ]
  },
  {
   "cell_type": "code",
   "execution_count": null,
   "id": "a2d48b85",
   "metadata": {
    "tags": []
   },
   "outputs": [],
   "source": [
    "%store -r SAM_ENDPOINT_NAME\n",
    "response = sm_client.describe_endpoint_config(EndpointConfigName=SAM_ENDPOINT_NAME)\n",
    "print(response)\n",
    "endpoint_config_name = response['EndpointConfigName']\n",
    "\n",
    "# Delete Endpoint\n",
    "sm_client.delete_endpoint(EndpointName=SAM_ENDPOINT_NAME)\n",
    "\n",
    "# Delete Endpoint Configuration\n",
    "sm_client.delete_endpoint_config(EndpointConfigName=endpoint_config_name)\n",
    "\n",
    "# Delete Model\n",
    "for prod_var in response['ProductionVariants']:\n",
    "    model_name = prod_var['ModelName']\n",
    "    sm_client.delete_model(ModelName=model_name) "
   ]
  },
  {
   "cell_type": "markdown",
   "id": "33987ac0",
   "metadata": {},
   "source": [
    "## 3.2 Delete endpoint, endpoint config and model for Model 2: InPainting"
   ]
  },
  {
   "cell_type": "code",
   "execution_count": null,
   "id": "b53d902f",
   "metadata": {
    "tags": []
   },
   "outputs": [],
   "source": [
    "%store -r INPAINTING_ENDPOINT_NAME\n",
    "response = sm_client.describe_endpoint_config(EndpointConfigName=INPAINTING_ENDPOINT_NAME)\n",
    "print(response)\n",
    "endpoint_config_name = response['EndpointConfigName']\n",
    "\n",
    "# Delete Endpoint\n",
    "sm_client.delete_endpoint(EndpointName=INPAINTING_ENDPOINT_NAME)\n",
    "\n",
    "# Delete Endpoint Configuration\n",
    "sm_client.delete_endpoint_config(EndpointConfigName=endpoint_config_name)\n",
    "\n",
    "# Delete Model\n",
    "for prod_var in response['ProductionVariants']:\n",
    "    model_name = prod_var['ModelName']\n",
    "    sm_client.delete_model(ModelName=model_name) "
   ]
  },
  {
   "cell_type": "code",
   "execution_count": null,
   "id": "261e5e37",
   "metadata": {},
   "outputs": [],
   "source": []
  }
 ],
 "metadata": {
  "kernelspec": {
   "display_name": "conda_pytorch_p39",
   "language": "python",
   "name": "conda_pytorch_p39"
  },
  "language_info": {
   "codemirror_mode": {
    "name": "ipython",
    "version": 3
   },
   "file_extension": ".py",
   "mimetype": "text/x-python",
   "name": "python",
   "nbconvert_exporter": "python",
   "pygments_lexer": "ipython3",
   "version": "3.9.15"
  }
 },
 "nbformat": 4,
 "nbformat_minor": 5
}
